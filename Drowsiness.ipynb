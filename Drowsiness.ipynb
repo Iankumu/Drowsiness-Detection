{
  "nbformat": 4,
  "nbformat_minor": 0,
  "metadata": {
    "accelerator": "GPU",
    "colab": {
      "name": "Drowsiness.ipynb",
      "provenance": [],
      "collapsed_sections": [],
      "mount_file_id": "1yKz_fl0mt6rhCKoyrNmlDnspwZOT537I",
      "authorship_tag": "ABX9TyMqEAyrPVefhLRMg0U5+LCd",
      "include_colab_link": true
    },
    "kernelspec": {
      "display_name": "Python 3",
      "name": "python3"
    },
    "language_info": {
      "name": "python"
    }
  },
  "cells": [
    {
      "cell_type": "markdown",
      "metadata": {
        "id": "view-in-github",
        "colab_type": "text"
      },
      "source": [
        "<a href=\"https://colab.research.google.com/github/Iankumu/Drowsiness-Detection/blob/main/Drowsiness.ipynb\" target=\"_parent\"><img src=\"https://colab.research.google.com/assets/colab-badge.svg\" alt=\"Open In Colab\"/></a>"
      ]
    },
    {
      "cell_type": "markdown",
      "metadata": {
        "id": "IVAZnFNK8FXk"
      },
      "source": [
        "##Import Libraries"
      ]
    },
    {
      "cell_type": "code",
      "metadata": {
        "id": "ioxn3RWIB6df"
      },
      "source": [
        "import numpy as np \n",
        "import pandas as pd \n",
        "import os\n",
        "import cv2\n",
        "from tensorflow.keras.layers import Input, Lambda, Dense, Flatten, Conv2D, MaxPooling2D, Dropout\n",
        "from tensorflow.keras.models import Model\n",
        "from tensorflow.keras.models import Sequential\n",
        "from keras.preprocessing.image import ImageDataGenerator\n",
        "import tensorflow as tf\n",
        "import matplotlib.pyplot as plt"
      ],
      "execution_count": null,
      "outputs": []
    },
    {
      "cell_type": "code",
      "metadata": {
        "colab": {
          "base_uri": "https://localhost:8080/"
        },
        "id": "1My_TbH_CIWE",
        "outputId": "823a2a8f-0b23-4d07-fe7e-eb2c1ee1a713"
      },
      "source": [
        "def yawn_faces(direc=\"/content/drive/MyDrive/Machine Learning/data/train\", face_cas_path=\"/content/drive/MyDrive/Machine Learning/Prediction Images/haarcascade_frontalface_default.xml\"):\n",
        "    yawn = []\n",
        "    IMG_SIZE = 145\n",
        "    categories = [\"yawn\", \"no_yawn\"]\n",
        "    for category in categories:\n",
        "        path_link = os.path.join(direc, category)\n",
        "        class_num1 = categories.index(category)\n",
        "        print(class_num1)\n",
        "        for image in os.listdir(path_link):\n",
        "            image_array = cv2.imread(os.path.join(path_link, image), cv2.IMREAD_COLOR)\n",
        "            face_cascade = cv2.CascadeClassifier(face_cas_path)\n",
        "            faces = face_cascade.detectMultiScale(image_array, 1.3, 5)\n",
        "            for (x, y, w, h) in faces:\n",
        "                img = cv2.rectangle(image_array, (x, y), (x+w, y+h), (0, 255, 0), 2)\n",
        "                roi_color = img[y:y+h, x:x+w]\n",
        "                resized_array = cv2.resize(roi_color, (IMG_SIZE, IMG_SIZE))\n",
        "                yawn.append([resized_array, class_num1])\n",
        "    return yawn\n",
        "\n",
        "\n",
        "yawn_no_yawn = yawn_faces()"
      ],
      "execution_count": null,
      "outputs": [
        {
          "output_type": "stream",
          "name": "stdout",
          "text": [
            "0\n",
            "1\n"
          ]
        }
      ]
    },
    {
      "cell_type": "code",
      "metadata": {
        "id": "e7hoT1KtCOKO"
      },
      "source": [
        "def get_data(dir_path=\"/content/drive/MyDrive/Machine Learning/data/train\", face_cas=\"/content/drive/MyDrive/Machine Learning/Prediction Images/haarcascade_frontalface_default.xml\", eye_cas=\"/content/drive/MyDrive/Machine Learning/Prediction Images/haarcascade.xml\"):\n",
        "    labels = ['Closed', 'Open']\n",
        "    IMG_SIZE = 145\n",
        "    data = []\n",
        "    for label in labels:\n",
        "        path = os.path.join(dir_path, label)\n",
        "        class_num = labels.index(label)\n",
        "        class_num +=2\n",
        "        print(class_num)\n",
        "        for img in os.listdir(path):\n",
        "            try:\n",
        "                img_array = cv2.imread(os.path.join(path, img), cv2.IMREAD_COLOR)\n",
        "                resized_array = cv2.resize(img_array, (IMG_SIZE, IMG_SIZE))\n",
        "                data.append([resized_array, class_num])\n",
        "            except Exception as e:\n",
        "                print(e)\n",
        "    return data"
      ],
      "execution_count": null,
      "outputs": []
    },
    {
      "cell_type": "code",
      "metadata": {
        "colab": {
          "base_uri": "https://localhost:8080/"
        },
        "id": "-lDkH1hhF2y8",
        "outputId": "0ac5d41f-1c52-498e-892f-32d417e8bcc8"
      },
      "source": [
        "data_train = get_data()"
      ],
      "execution_count": null,
      "outputs": [
        {
          "output_type": "stream",
          "name": "stdout",
          "text": [
            "2\n",
            "3\n"
          ]
        }
      ]
    },
    {
      "cell_type": "code",
      "metadata": {
        "id": "Aiow5eBKImNX"
      },
      "source": [
        "def append_data():\n",
        "#     total_data = []\n",
        "    yawn = yawn_faces()\n",
        "    data = get_data()\n",
        "    yawn.extend(data)\n",
        "    return np.array(yawn)"
      ],
      "execution_count": null,
      "outputs": []
    },
    {
      "cell_type": "code",
      "metadata": {
        "colab": {
          "base_uri": "https://localhost:8080/"
        },
        "id": "oUQj6zqKIsz9",
        "outputId": "3876c91f-768b-4ad0-8ea3-c734cb0c3798"
      },
      "source": [
        "new_data = append_data()"
      ],
      "execution_count": null,
      "outputs": [
        {
          "output_type": "stream",
          "name": "stdout",
          "text": [
            "0\n",
            "1\n",
            "2\n",
            "3\n"
          ]
        },
        {
          "output_type": "stream",
          "name": "stderr",
          "text": [
            "/usr/local/lib/python3.7/dist-packages/ipykernel_launcher.py:6: VisibleDeprecationWarning: Creating an ndarray from ragged nested sequences (which is a list-or-tuple of lists-or-tuples-or ndarrays with different lengths or shapes) is deprecated. If you meant to do this, you must specify 'dtype=object' when creating the ndarray\n",
            "  \n"
          ]
        }
      ]
    },
    {
      "cell_type": "markdown",
      "metadata": {
        "id": "96k21G0n5bek"
      },
      "source": [
        "##Separate Labels and Features"
      ]
    },
    {
      "cell_type": "code",
      "metadata": {
        "id": "GE-k5j-bJcdf"
      },
      "source": [
        "X = []\n",
        "y = []\n",
        "for feature, label in new_data:\n",
        "    X.append(feature)\n",
        "    y.append(label)"
      ],
      "execution_count": null,
      "outputs": []
    },
    {
      "cell_type": "markdown",
      "metadata": {
        "id": "Y1DmwL445iSv"
      },
      "source": [
        "##Reshape the Array"
      ]
    },
    {
      "cell_type": "code",
      "metadata": {
        "id": "tvJEvtpiJiRH"
      },
      "source": [
        "X = np.array(X)\n",
        "X = X.reshape(-1, 145, 145, 3)"
      ],
      "execution_count": null,
      "outputs": []
    },
    {
      "cell_type": "markdown",
      "metadata": {
        "id": "TStueHBq7YT8"
      },
      "source": [
        "##Convert Multiclass Labels to Binary Labels "
      ]
    },
    {
      "cell_type": "code",
      "metadata": {
        "id": "nAkOsUNwJnru"
      },
      "source": [
        "from sklearn.preprocessing import LabelBinarizer\n",
        "label_bin = LabelBinarizer()\n",
        "y = label_bin.fit_transform(y)"
      ],
      "execution_count": null,
      "outputs": []
    },
    {
      "cell_type": "code",
      "metadata": {
        "id": "-lsPx5F3JrkQ"
      },
      "source": [
        "y = np.array(y)"
      ],
      "execution_count": null,
      "outputs": []
    },
    {
      "cell_type": "code",
      "source": [
        "X.shape"
      ],
      "metadata": {
        "colab": {
          "base_uri": "https://localhost:8080/"
        },
        "id": "1lCi1J6Mgta6",
        "outputId": "4545360c-a822-49c3-a11d-a50fa5ebcf80"
      },
      "execution_count": null,
      "outputs": [
        {
          "output_type": "execute_result",
          "data": {
            "text/plain": [
              "(1644, 145, 145, 3)"
            ]
          },
          "metadata": {},
          "execution_count": 12
        }
      ]
    },
    {
      "cell_type": "markdown",
      "metadata": {
        "id": "7cNBDqY_7eoL"
      },
      "source": [
        "##Split the data into Train Set and Test Set"
      ]
    },
    {
      "cell_type": "code",
      "metadata": {
        "id": "OKieRhaLJu8d"
      },
      "source": [
        "from sklearn.model_selection import train_test_split\n",
        "seed = 42\n",
        "test_size = 0.30\n",
        "X_train, X_test, y_train, y_test = train_test_split(X, y, random_state=seed, test_size=test_size)"
      ],
      "execution_count": null,
      "outputs": []
    },
    {
      "cell_type": "code",
      "metadata": {
        "colab": {
          "base_uri": "https://localhost:8080/"
        },
        "id": "H_l39ny8JxPj",
        "outputId": "36f0c6f8-1f93-49a0-b683-b525c029aef3"
      },
      "source": [
        "X_train.shape"
      ],
      "execution_count": null,
      "outputs": [
        {
          "output_type": "execute_result",
          "data": {
            "text/plain": [
              "(1150, 145, 145, 3)"
            ]
          },
          "metadata": {},
          "execution_count": 14
        }
      ]
    },
    {
      "cell_type": "code",
      "metadata": {
        "colab": {
          "base_uri": "https://localhost:8080/"
        },
        "id": "2k828IITJzoV",
        "outputId": "1f97c93b-2607-4981-b7af-58f9180f1c0c"
      },
      "source": [
        "len(X_train)"
      ],
      "execution_count": null,
      "outputs": [
        {
          "output_type": "execute_result",
          "data": {
            "text/plain": [
              "1150"
            ]
          },
          "metadata": {},
          "execution_count": 15
        }
      ]
    },
    {
      "cell_type": "markdown",
      "metadata": {
        "id": "_jIFhLKy0HTw"
      },
      "source": [
        "##Randomize the training images for better performance"
      ]
    },
    {
      "cell_type": "code",
      "metadata": {
        "id": "gHfuIDXQJ4Xb"
      },
      "source": [
        "train_generator = ImageDataGenerator(rescale=1/255, zoom_range=0.2, horizontal_flip=True, rotation_range=30)\n",
        "test_generator = ImageDataGenerator(rescale=1/255)\n",
        "\n",
        "train_generator = train_generator.flow(np.array(X_train), y_train, shuffle=False)\n",
        "test_generator = test_generator.flow(np.array(X_test), y_test, shuffle=False)"
      ],
      "execution_count": null,
      "outputs": []
    },
    {
      "cell_type": "markdown",
      "metadata": {
        "id": "YlZWskws0WiV"
      },
      "source": [
        "##Train the Model"
      ]
    },
    {
      "cell_type": "code",
      "metadata": {
        "id": "mQhgmeCdKLGP",
        "colab": {
          "base_uri": "https://localhost:8080/"
        },
        "outputId": "b72640b2-a0aa-422a-ffb1-f25bba9ee709"
      },
      "source": [
        "model = Sequential()\n",
        "\n",
        "model.add(Conv2D(256, (3, 3), activation=\"relu\", input_shape=X_train.shape[1:]))\n",
        "model.add(MaxPooling2D(2, 2))\n",
        "\n",
        "model.add(Conv2D(128, (3, 3), activation=\"relu\"))\n",
        "model.add(MaxPooling2D(2, 2))\n",
        "\n",
        "model.add(Conv2D(64, (3, 3), activation=\"relu\"))\n",
        "model.add(MaxPooling2D(2, 2))\n",
        "\n",
        "model.add(Conv2D(32, (3, 3), activation=\"relu\"))\n",
        "model.add(MaxPooling2D(2, 2))\n",
        "\n",
        "model.add(Flatten())\n",
        "model.add(Dropout(0.5))\n",
        "\n",
        "model.add(Dense(64, activation=\"relu\"))\n",
        "model.add(Dense(4, activation=\"softmax\"))\n",
        "\n",
        "model.compile(loss=\"categorical_crossentropy\", metrics=[\"accuracy\"], optimizer=\"adam\")\n",
        "\n",
        "model.summary()"
      ],
      "execution_count": null,
      "outputs": [
        {
          "output_type": "stream",
          "name": "stdout",
          "text": [
            "Model: \"sequential\"\n",
            "_________________________________________________________________\n",
            " Layer (type)                Output Shape              Param #   \n",
            "=================================================================\n",
            " conv2d (Conv2D)             (None, 143, 143, 256)     7168      \n",
            "                                                                 \n",
            " max_pooling2d (MaxPooling2D  (None, 71, 71, 256)      0         \n",
            " )                                                               \n",
            "                                                                 \n",
            " conv2d_1 (Conv2D)           (None, 69, 69, 128)       295040    \n",
            "                                                                 \n",
            " max_pooling2d_1 (MaxPooling  (None, 34, 34, 128)      0         \n",
            " 2D)                                                             \n",
            "                                                                 \n",
            " conv2d_2 (Conv2D)           (None, 32, 32, 64)        73792     \n",
            "                                                                 \n",
            " max_pooling2d_2 (MaxPooling  (None, 16, 16, 64)       0         \n",
            " 2D)                                                             \n",
            "                                                                 \n",
            " conv2d_3 (Conv2D)           (None, 14, 14, 32)        18464     \n",
            "                                                                 \n",
            " max_pooling2d_3 (MaxPooling  (None, 7, 7, 32)         0         \n",
            " 2D)                                                             \n",
            "                                                                 \n",
            " flatten (Flatten)           (None, 1568)              0         \n",
            "                                                                 \n",
            " dropout (Dropout)           (None, 1568)              0         \n",
            "                                                                 \n",
            " dense (Dense)               (None, 64)                100416    \n",
            "                                                                 \n",
            " dense_1 (Dense)             (None, 4)                 260       \n",
            "                                                                 \n",
            "=================================================================\n",
            "Total params: 495,140\n",
            "Trainable params: 495,140\n",
            "Non-trainable params: 0\n",
            "_________________________________________________________________\n"
          ]
        }
      ]
    },
    {
      "cell_type": "code",
      "metadata": {
        "colab": {
          "base_uri": "https://localhost:8080/"
        },
        "id": "-cA2NB5MKnns",
        "outputId": "5ad9cc21-7dd1-44cb-a543-2998d1cf1daf"
      },
      "source": [
        "history = model.fit(train_generator, epochs=15, validation_data=test_generator, shuffle=True, validation_steps=len(test_generator))"
      ],
      "execution_count": null,
      "outputs": [
        {
          "output_type": "stream",
          "name": "stdout",
          "text": [
            "Epoch 1/15\n",
            "36/36 [==============================] - 25s 260ms/step - loss: 0.9901 - accuracy: 0.5530 - val_loss: 0.7214 - val_accuracy: 0.6822\n",
            "Epoch 2/15\n",
            "36/36 [==============================] - 7s 188ms/step - loss: 0.5248 - accuracy: 0.7809 - val_loss: 0.3359 - val_accuracy: 0.8664\n",
            "Epoch 3/15\n",
            "36/36 [==============================] - 7s 190ms/step - loss: 0.4161 - accuracy: 0.8174 - val_loss: 0.2847 - val_accuracy: 0.8947\n",
            "Epoch 4/15\n",
            "36/36 [==============================] - 7s 192ms/step - loss: 0.3380 - accuracy: 0.8574 - val_loss: 0.2898 - val_accuracy: 0.8765\n",
            "Epoch 5/15\n",
            "36/36 [==============================] - 7s 194ms/step - loss: 0.3166 - accuracy: 0.8713 - val_loss: 0.3175 - val_accuracy: 0.8704\n",
            "Epoch 6/15\n",
            "36/36 [==============================] - 7s 192ms/step - loss: 0.2692 - accuracy: 0.8930 - val_loss: 0.2163 - val_accuracy: 0.9231\n",
            "Epoch 7/15\n",
            "36/36 [==============================] - 7s 192ms/step - loss: 0.2636 - accuracy: 0.8870 - val_loss: 0.2117 - val_accuracy: 0.9130\n",
            "Epoch 8/15\n",
            "36/36 [==============================] - 7s 195ms/step - loss: 0.2616 - accuracy: 0.8957 - val_loss: 0.2215 - val_accuracy: 0.9211\n",
            "Epoch 9/15\n",
            "36/36 [==============================] - 7s 193ms/step - loss: 0.2321 - accuracy: 0.9009 - val_loss: 0.2226 - val_accuracy: 0.9231\n",
            "Epoch 10/15\n",
            "36/36 [==============================] - 7s 191ms/step - loss: 0.2346 - accuracy: 0.8983 - val_loss: 0.1967 - val_accuracy: 0.9393\n",
            "Epoch 11/15\n",
            "36/36 [==============================] - 7s 191ms/step - loss: 0.2207 - accuracy: 0.9078 - val_loss: 0.1945 - val_accuracy: 0.9312\n",
            "Epoch 12/15\n",
            "36/36 [==============================] - 7s 192ms/step - loss: 0.2131 - accuracy: 0.9113 - val_loss: 0.1999 - val_accuracy: 0.9514\n",
            "Epoch 13/15\n",
            "36/36 [==============================] - 7s 189ms/step - loss: 0.2282 - accuracy: 0.9148 - val_loss: 0.2029 - val_accuracy: 0.9231\n",
            "Epoch 14/15\n",
            "36/36 [==============================] - 7s 188ms/step - loss: 0.1935 - accuracy: 0.9183 - val_loss: 0.1699 - val_accuracy: 0.9494\n",
            "Epoch 15/15\n",
            "36/36 [==============================] - 7s 189ms/step - loss: 0.1801 - accuracy: 0.9200 - val_loss: 0.1343 - val_accuracy: 0.9494\n"
          ]
        }
      ]
    },
    {
      "cell_type": "markdown",
      "metadata": {
        "id": "MxP7r4cB0hg1"
      },
      "source": [
        "##Performance of the Model"
      ]
    },
    {
      "cell_type": "code",
      "metadata": {
        "colab": {
          "base_uri": "https://localhost:8080/",
          "height": 513
        },
        "id": "Fn1SVLioLD57",
        "outputId": "e7b4f630-f0d7-4d06-bb4f-cdd3dccd13a3"
      },
      "source": [
        "accuracy = history.history['accuracy']\n",
        "val_accuracy = history.history['val_accuracy']\n",
        "loss = history.history['loss']\n",
        "val_loss = history.history['val_loss']\n",
        "epochs = range(len(accuracy))\n",
        "\n",
        "plt.plot(epochs, accuracy, \"b\", label=\"training accuracy\")\n",
        "plt.plot(epochs, val_accuracy, \"r\", label=\"validation accuracy\")\n",
        "plt.legend()\n",
        "plt.show()\n",
        "\n",
        "plt.plot(epochs, loss, \"b\", label=\"training loss\")\n",
        "plt.plot(epochs, val_loss, \"r\", label=\"validation loss\")\n",
        "plt.legend()\n",
        "plt.show()"
      ],
      "execution_count": null,
      "outputs": [
        {
          "output_type": "display_data",
          "data": {
            "image/png": "[encoded data removed]",
            "text/plain": [
              "<Figure size 432x288 with 1 Axes>"
            ]
          },
          "metadata": {
            "needs_background": "light"
          }
        },
        {
          "output_type": "display_data",
          "data": {
            "image/png": "[encoded data removed]",
            "text/plain": [
              "<Figure size 432x288 with 1 Axes>"
            ]
          },
          "metadata": {
            "needs_background": "light"
          }
        }
      ]
    },
    {
      "cell_type": "markdown",
      "metadata": {
        "id": "9WCC2xWW0o0X"
      },
      "source": [
        "##Save the Model"
      ]
    },
    {
      "cell_type": "code",
      "metadata": {
        "id": "VpKP5tyjWGJ7"
      },
      "source": [
        "model.save(\"drowsiness_new.h5\",overwrite=True)"
      ],
      "execution_count": null,
      "outputs": []
    },
    {
      "cell_type": "code",
      "metadata": {
        "colab": {
          "base_uri": "https://localhost:8080/"
        },
        "id": "x8ZpAY4FWZRg",
        "outputId": "62abf58c-d0f7-4cfe-9a5c-bab6eca6af57"
      },
      "source": [
        "prediction=np.argmax(model.predict(X_test), axis=1)\n",
        "prediction"
      ],
      "execution_count": null,
      "outputs": [
        {
          "output_type": "execute_result",
          "data": {
            "text/plain": [
              "array([2, 3, 3, 2, 2, 3, 2, 2, 3, 1, 2, 3, 3, 3, 2, 2, 2, 2, 3, 2, 3, 3,\n",
              "       3, 2, 3, 3, 3, 2, 3, 1, 3, 0, 2, 1, 2, 3, 3, 2, 0, 2, 1, 2, 2, 1,\n",
              "       1, 3, 2, 2, 1, 1, 1, 2, 2, 3, 3, 2, 1, 2, 0, 2, 3, 0, 2, 0, 1, 0,\n",
              "       3, 2, 2, 3, 3, 3, 2, 2, 1, 2, 2, 2, 0, 2, 0, 2, 2, 3, 1, 3, 3, 2,\n",
              "       3, 0, 3, 3, 2, 1, 0, 1, 2, 2, 3, 3, 2, 2, 2, 3, 3, 3, 2, 0, 2, 3,\n",
              "       1, 2, 1, 2, 3, 1, 3, 3, 3, 3, 2, 1, 0, 3, 2, 2, 2, 3, 3, 1, 3, 2,\n",
              "       2, 2, 1, 2, 2, 2, 2, 3, 3, 1, 1, 2, 2, 2, 3, 3, 1, 3, 0, 0, 2, 1,\n",
              "       0, 1, 3, 3, 0, 3, 1, 2, 2, 3, 3, 1, 3, 2, 3, 2, 1, 2, 3, 0, 1, 2,\n",
              "       2, 2, 3, 3, 2, 3, 3, 2, 2, 3, 0, 3, 2, 2, 2, 3, 2, 3, 2, 3, 3, 1,\n",
              "       1, 2, 3, 2, 2, 1, 3, 3, 2, 3, 2, 2, 3, 1, 3, 2, 2, 0, 2, 3, 1, 3,\n",
              "       3, 3, 0, 2, 2, 2, 2, 3, 1, 2, 3, 3, 1, 3, 0, 1, 2, 3, 1, 2, 2, 3,\n",
              "       0, 3, 2, 3, 1, 1, 1, 3, 2, 2, 1, 1, 2, 2, 1, 1, 2, 2, 1, 2, 2, 2,\n",
              "       0, 2, 3, 3, 3, 2, 2, 3, 3, 1, 2, 1, 0, 1, 3, 0, 2, 0, 3, 2, 2, 2,\n",
              "       1, 3, 2, 2, 1, 3, 2, 2, 2, 2, 3, 2, 2, 3, 2, 3, 2, 2, 1, 3, 2, 3,\n",
              "       3, 2, 1, 1, 3, 3, 2, 2, 2, 2, 1, 0, 3, 3, 3, 3, 1, 0, 2, 2, 0, 2,\n",
              "       3, 3, 2, 2, 1, 2, 3, 3, 2, 2, 1, 3, 3, 3, 2, 3, 3, 3, 3, 3, 2, 2,\n",
              "       0, 3, 2, 3, 3, 2, 3, 1, 3, 3, 1, 2, 3, 3, 1, 3, 3, 0, 3, 1, 2, 3,\n",
              "       3, 2, 2, 2, 1, 2, 2, 2, 0, 3, 2, 2, 2, 3, 0, 2, 1, 3, 3, 3, 2, 2,\n",
              "       2, 2, 3, 2, 3, 2, 2, 1, 2, 3, 1, 2, 3, 3, 1, 3, 2, 2, 3, 1, 0, 3,\n",
              "       2, 3, 2, 3, 3, 3, 1, 2, 3, 2, 2, 3, 3, 3, 2, 3, 3, 3, 3, 2, 2, 3,\n",
              "       2, 3, 3, 2, 2, 2, 3, 1, 1, 2, 3, 3, 2, 2, 2, 3, 2, 3, 3, 3, 1, 3,\n",
              "       3, 1, 2, 1, 1, 3, 1, 0, 3, 3, 3, 3, 2, 2, 2, 1, 0, 3, 3, 2, 0, 2,\n",
              "       3, 2, 2, 0, 2, 3, 1, 3, 2, 3])"
            ]
          },
          "metadata": {},
          "execution_count": 21
        }
      ]
    },
    {
      "cell_type": "code",
      "metadata": {
        "id": "AyycWts64O6o"
      },
      "source": [
        "labels_new = [\"yawn\", \"no_yawn\", \"Closed\", \"Open\"]"
      ],
      "execution_count": null,
      "outputs": []
    },
    {
      "cell_type": "code",
      "metadata": {
        "colab": {
          "base_uri": "https://localhost:8080/"
        },
        "id": "_SaXGPe34N0m",
        "outputId": "edc4d9c9-41a4-40a6-d727-8913e4bda80b"
      },
      "source": [
        "from sklearn.metrics import classification_report\n",
        "print(classification_report(np.argmax(y_test, axis=1), prediction, target_names=labels_new))"
      ],
      "execution_count": null,
      "outputs": [
        {
          "output_type": "stream",
          "name": "stdout",
          "text": [
            "              precision    recall  f1-score   support\n",
            "\n",
            "        yawn       0.87      0.62      0.73        53\n",
            "     no_yawn       0.75      0.89      0.81        66\n",
            "      Closed       0.89      0.96      0.92       181\n",
            "        Open       0.97      0.92      0.94       194\n",
            "\n",
            "    accuracy                           0.90       494\n",
            "   macro avg       0.87      0.85      0.85       494\n",
            "weighted avg       0.90      0.90      0.90       494\n",
            "\n"
          ]
        }
      ]
    },
    {
      "cell_type": "code",
      "metadata": {
        "id": "0VXT4i8NZNn1"
      },
      "source": [
        "labels_new = [\"yawn\", \"no_yawn\", \"Closed\", \"Open\"]\n",
        "IMG_SIZE = 145\n",
        "def prepare(filepath, face_cas=\"/content/drive/MyDrive/Machine Learning/Prediction Images/haarcascade_frontalface_default.xml\"):\n",
        "    img_array = cv2.imread(filepath, cv2.IMREAD_COLOR)\n",
        "    img_array = img_array / 255\n",
        "    resized_array = cv2.resize(img_array, (IMG_SIZE, IMG_SIZE))\n",
        "    return resized_array.reshape(-1, IMG_SIZE, IMG_SIZE, 3)\n",
        "\n",
        "model = tf.keras.models.load_model(\"./drowsiness_new.h5\")"
      ],
      "execution_count": null,
      "outputs": []
    },
    {
      "cell_type": "code",
      "metadata": {
        "id": "vBzla9t37LyS"
      },
      "source": [
        "# 0-yawn, 1-no_yawn, 2-Closed, 3-Open"
      ],
      "execution_count": null,
      "outputs": []
    },
    {
      "cell_type": "markdown",
      "metadata": {
        "id": "mp8jPfi103T4"
      },
      "source": [
        "##Test the Model"
      ]
    },
    {
      "cell_type": "code",
      "metadata": {
        "colab": {
          "base_uri": "https://localhost:8080/",
          "height": 269
        },
        "id": "Ju8osIAW8b7D",
        "outputId": "537b3437-1ea7-4094-bde5-0d5faee7f31f"
      },
      "source": [
        "plt.imshow(plt.imread(\"/content/drive/MyDrive/Machine Learning/data/test/Closed/_383.jpg\"))\n",
        "plt.show()"
      ],
      "execution_count": null,
      "outputs": [
        {
          "output_type": "display_data",
          "data": {
            "image/png": "[encoded data removed]",
            "text/plain": [
              "<Figure size 432x288 with 1 Axes>"
            ]
          },
          "metadata": {
            "needs_background": "light"
          }
        }
      ]
    },
    {
      "cell_type": "code",
      "metadata": {
        "colab": {
          "base_uri": "https://localhost:8080/"
        },
        "id": "f9eXBeIzyV8u",
        "outputId": "4f60f79e-554d-458d-d8e0-212a29b438e6"
      },
      "source": [
        "prediction = model.predict([prepare(\"/content/drive/MyDrive/Machine Learning/data/test/Closed/_383.jpg\")])\n",
        "np.argmax(prediction)"
      ],
      "execution_count": null,
      "outputs": [
        {
          "output_type": "execute_result",
          "data": {
            "text/plain": [
              "2"
            ]
          },
          "metadata": {},
          "execution_count": 27
        }
      ]
    }
  ]
}